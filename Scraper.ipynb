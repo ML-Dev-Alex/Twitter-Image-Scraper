{
 "cells": [
  {
   "cell_type": "code",
   "execution_count": 1,
   "metadata": {
    "collapsed": true
   },
   "outputs": [],
   "source": [
    "import tweepy\n",
    "import os\n",
    "import urllib.request\n",
    "import re\n",
    "import time\n"
   ]
  },
  {
   "cell_type": "code",
   "execution_count": 2,
   "metadata": {},
   "outputs": [],
   "source": [
    "def save_image(image_uri, image_path, extension):\n",
    "    urllib.request.urlretrieve(image_uri, image_path)\n",
    "                        \n",
    "    if os.path.exists(image_path):\n",
    "        if extension == \"gif\":\n",
    "            new_file_path = image_path + \".gif\"\n",
    "        elif extension == \"jpg\" or extension == \"jpeg\":\n",
    "            new_file_path = image_path + \".jpg\"\n",
    "        elif extension == \"png\":\n",
    "            new_file_path = image_path + \".png\"\n",
    "        else:\n",
    "            new_file_path = image_path + \": .unrecgonized image type\"\n",
    "            print(f'error on file : {new_file_path}')\n",
    "            return\n",
    "        os.rename(image_path, new_file_path)\n",
    "    else:\n",
    "        err = filename + \": failed to download \" + image_uri\n",
    "        print_error(err)\n",
    "\n"
   ]
  },
  {
   "cell_type": "code",
   "execution_count": 3,
   "metadata": {},
   "outputs": [],
   "source": [
    "def search_for_hashtags(consumer_key, consumer_secret, access_token, access_token_secret, hashtag_phrase,\n",
    "                        max_number_of_tweets=10, base_dir='F:/Data'):\n",
    "    # create authentication for accessing Twitter\n",
    "    auth = tweepy.OAuthHandler(consumer_key, consumer_secret)\n",
    "    auth.set_access_token(access_token, access_token_secret)\n",
    "\n",
    "    # initialize Tweepy API\n",
    "    api = tweepy.API(auth)\n",
    "    \n",
    "    number_of_tweets = len(os.listdir(base_dir)) + 1\n",
    "    # for each tweet matching our hashtags, download all of its images\n",
    "    for tweet in tweepy.Cursor(api.search, q=hashtag_phrase+' -filter:retweets', lang=\"en\", tweet_mode='extended').items(max_number_of_tweets):\n",
    "        if not hasattr(tweet, 'extended_entities'):\n",
    "            continue\n",
    "        if 'media' in tweet.extended_entities:\n",
    "            for media in tweet.extended_entities['media']:\n",
    "                if media['type'] == 'photo':\n",
    "                    number_of_tweets += 1\n",
    "                    image_uri = media['media_url']\n",
    "                    image_path = f'{base_dir}/{number_of_tweets}'\n",
    "\n",
    "                    extension = re.findall(r\"^.*\\.(JPEG|jpeg|jpg|JPG|gif|GIF|png|PNG)$\", image_uri)\n",
    "                    extension = str(extension[0]).lower()\n",
    "\n",
    "                    image_uri = media['media_url'] + ':large'\n",
    "                    save_image(image_uri, image_path, extension)\n",
    "        time.sleep(0.8)  # So we don't get error 429 (Too Many Requests)\n",
    "        if number_of_tweets >= max_number_of_tweets:\n",
    "            break\n"
   ]
  },
  {
   "cell_type": "code",
   "execution_count": 4,
   "metadata": {},
   "outputs": [],
   "source": [
    "def search_for_user_tweets(consumer_key, consumer_secret, access_token, access_token_secret, username,\n",
    "                        max_number_of_tweets=10, base_dir='F:/Data'):\n",
    "        # Authorization to consumer key and consumer secret \n",
    "        auth = tweepy.OAuthHandler(consumer_key, consumer_secret) \n",
    "  \n",
    "        # Access to user's access key and access secret \n",
    "        auth.set_access_token(access_token, access_token_secret) \n",
    "  \n",
    "        # Calling api \n",
    "        api = tweepy.API(auth) \n",
    "  \n",
    "        number_of_tweets = len(os.listdir(base_dir)) + 1\n",
    "        \n",
    "        # For each tweet by the user, downloads all of its images\n",
    "        for tweet in tweepy.Cursor(api.user_timeline, screen_name=username, lang=\"en\",\n",
    "                                   tweet_mode='extended').items(max_number_of_tweets):\n",
    "            if not hasattr(tweet, 'extended_entities'):\n",
    "                continue\n",
    "            if 'media' in tweet.extended_entities:\n",
    "                for media in tweet.extended_entities['media']:\n",
    "                    if media['type'] == 'photo':\n",
    "                        number_of_tweets += 1\n",
    "                        image_uri = media['media_url']\n",
    "                        image_path = f'{base_dir}/{number_of_tweets}'\n",
    "    \n",
    "                        extension = re.findall(r\"^.*\\.(JPEG|jpeg|jpg|JPG|gif|GIF|png|PNG)$\", image_uri)\n",
    "                        extension = str(extension[0]).lower()\n",
    "    \n",
    "                        image_uri = media['media_url'] + ':large'\n",
    "                        save_image(image_uri, image_path, extension)\n",
    "            time.sleep(0.8)  # So we don't get error 429 (Too Many Requests)\n",
    "            if number_of_tweets >= max_number_of_tweets:\n",
    "                break\n"
   ]
  },
  {
   "cell_type": "code",
   "execution_count": 11,
   "metadata": {
    "collapsed": true
   },
   "outputs": [],
   "source": [
    "# Make a twitter developer project and copy the authentication keys/tokens\n",
    "consumer_key = ''\n",
    "consumer_secret = ''\n",
    "access_token = ''\n",
    "access_token_secret = ''\n",
    "\n",
    "\n",
    "hashtag_phrase = '#'\n",
    "username = '@'\n",
    "save_dir = 'F:/Data/'\n",
    "\n",
    "if __name__ == '__main__':\n",
    "    search_for_user_tweets(consumer_key, consumer_secret, access_token, access_token_secret, username,\n",
    "                           max_number_of_tweets=50000000, base_dir=save_dir)\n",
    "    search_for_hashtags(consumer_key, consumer_secret, access_token, access_token_secret, hashtag_phrase,\n",
    "                        max_number_of_tweets=50000000, base_dir=save_dir)\n",
    "\n"
   ]
  }
 ],
 "metadata": {
  "kernelspec": {
   "display_name": "Python 2",
   "language": "python",
   "name": "python2"
  },
  "language_info": {
   "codemirror_mode": {
    "name": "ipython",
    "version": 2
   },
   "file_extension": ".py",
   "mimetype": "text/x-python",
   "name": "python",
   "nbconvert_exporter": "python",
   "pygments_lexer": "ipython2",
   "version": "2.7.6"
  }
 },
 "nbformat": 4,
 "nbformat_minor": 0
}
